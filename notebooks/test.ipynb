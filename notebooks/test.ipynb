{
 "cells": [
  {
   "cell_type": "code",
   "execution_count": 3,
   "metadata": {},
   "outputs": [
    {
     "name": "stdout",
     "output_type": "stream",
     "text": [
      "hi\n"
     ]
    }
   ],
   "source": [
    "print(\"hi\")\n",
    "from transformers import AutoTokenizer, AutoModelForCausalLM"
   ]
  },
  {
   "cell_type": "code",
   "execution_count": 16,
   "metadata": {},
   "outputs": [],
   "source": [
    "model_name = \"facebook/opt-1.3B\"\n",
    "tokenizer = AutoTokenizer.from_pretrained(model_name, use_fast=False)\n",
    "model = AutoModelForCausalLM.from_pretrained(model_name).cuda()"
   ]
  },
  {
   "cell_type": "code",
   "execution_count": 28,
   "metadata": {},
   "outputs": [
    {
     "data": {
      "text/plain": [
       "'</s>Question: Who wrote the song \"Juicy\"\\nAnswer: The Notorious B.I.G.\\nQuestion: Who wrote the song \"Gold Digger\"?\\nAnswer: ~~The Notorious B.I.G.~~ ~~The Notorious B.I.G.~~ ~~The Notorious B.I.G.~~ ~~The Notorious B.I.G.~~ ~~The Notorious B.I.G.~~ ~~The Notorious B.I.G.~~ ~~The Notorious B.I.G.~~ ~~The Notorious B.I.G.~~ ~~The Notorious B.I.G.~~ ~~The Notorious B.I.G.~~ ~~The Notorious B.I.G.~~ ~~The Notorious B.I.G.~~ ~~The Notorious B.I.G.~~ ~~The Notorious B.I.G.~~ ~~The Notorious B.I.G.~~ ~~The Notorious B.I.G.~~ ~~The Notorious B.I.G.~~ ~~The Notorious B.I.G.~~ ~~The Notorious B.I.G.~~ ~~The Notorious B.I.G.~~ ~~The Notorious B.I.G.~~ ~~The Notorious'"
      ]
     },
     "execution_count": 28,
     "metadata": {},
     "output_type": "execute_result"
    }
   ],
   "source": [
    "tokens = tokenizer.encode(text, return_tensors=\"pt\").cuda()\n",
    "outputs = model.generate(\n",
    "    tokens,\n",
    "    max_new_tokens=256,\n",
    "    temperature=0,\n",
    "    return_dict_in_generate=True,\n",
    "    output_scores=True,\n",
    "    eos_token_id=198,  # special character 'ċ' (bytecode for new line?) NOTE use this for generation\n",
    ")\n",
    "tokenizer.decode(outputs.sequences[0])"
   ]
  }
 ],
 "metadata": {
  "kernelspec": {
   "display_name": "Python 3 (ipykernel)",
   "language": "python",
   "name": "python3"
  },
  "language_info": {
   "codemirror_mode": {
    "name": "ipython",
    "version": 3
   },
   "file_extension": ".py",
   "mimetype": "text/x-python",
   "name": "python",
   "nbconvert_exporter": "python",
   "pygments_lexer": "ipython3",
   "version": "3.9.16"
  },
  "vscode": {
   "interpreter": {
    "hash": "0602cd0eb7a6e6845434e518a29c7b46bbef08685b9a4c82106695e4d8a3e6f6"
   }
  }
 },
 "nbformat": 4,
 "nbformat_minor": 2
}
